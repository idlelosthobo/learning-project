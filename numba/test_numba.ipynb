{
 "cells": [
  {
   "cell_type": "code",
   "execution_count": 2,
   "outputs": [],
   "source": [
    "import numpy as np\n",
    "\n",
    "from numba import njit\n",
    "\n",
    "@njit(nogil=True)\n",
    "def friction_fn(v, vt):\n",
    "    if v > vt:\n",
    "        return - v * 3\n",
    "    else:\n",
    "        return - vt * 3 * np.sign(v)\n",
    "\n",
    "@njit(nogil=True)\n",
    "def simulate_spring_mass_funky_damper(x0, T=10, dt=0.0001, vt=1.0):\n",
    "    times = np.arange(0, T, dt)\n",
    "    positions = np.zeros_like(times)\n",
    "\n",
    "    v = 0\n",
    "    a = 0\n",
    "    x = x0\n",
    "    positions[0] = x0/x0\n",
    "\n",
    "    for ii in range(len(times)):\n",
    "        if ii == 0:\n",
    "            continue\n",
    "        t = times[ii]\n",
    "        a = friction_fn(v, vt) - 100*x\n",
    "        v = v + a*dt\n",
    "        x = x + v*dt\n",
    "        positions[ii] = x/x0\n",
    "    return times, positions\n",
    "\n",
    "# compile\n",
    "_ = simulate_spring_mass_funky_damper(0.1)"
   ],
   "metadata": {
    "collapsed": false,
    "pycharm": {
     "name": "#%%\n"
    }
   }
  },
  {
   "cell_type": "code",
   "execution_count": 5,
   "outputs": [
    {
     "name": "stdout",
     "output_type": "stream",
     "text": [
      "CPU times: total: 2min 29s\n",
      "Wall time: 12.7 s\n"
     ]
    }
   ],
   "source": [
    "from numba import prange\n",
    "\n",
    "@njit(nogil=True, parallel=True)\n",
    "def run_sims(end=10000):\n",
    "    for x0 in prange(int(end/0.1)):\n",
    "        if x0 == 0:\n",
    "            continue\n",
    "        simulate_spring_mass_funky_damper(x0*0.1)\n",
    "\n",
    "%time run_sims()"
   ],
   "metadata": {
    "collapsed": false,
    "pycharm": {
     "name": "#%%\n"
    }
   }
  },
  {
   "cell_type": "code",
   "execution_count": null,
   "outputs": [],
   "source": [],
   "metadata": {
    "collapsed": false,
    "pycharm": {
     "name": "#%%\n"
    }
   }
  }
 ],
 "metadata": {
  "kernelspec": {
   "display_name": "Python 3",
   "language": "python",
   "name": "python3"
  },
  "language_info": {
   "codemirror_mode": {
    "name": "ipython",
    "version": 2
   },
   "file_extension": ".py",
   "mimetype": "text/x-python",
   "name": "python",
   "nbconvert_exporter": "python",
   "pygments_lexer": "ipython2",
   "version": "2.7.6"
  }
 },
 "nbformat": 4,
 "nbformat_minor": 0
}